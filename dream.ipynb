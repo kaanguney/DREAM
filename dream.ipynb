{
 "cells": [
  {
   "cell_type": "code",
   "execution_count": 3,
   "metadata": {},
   "outputs": [],
   "source": [
    "from tqdm import tqdm\n",
    "import pandas as pd\n",
    "from sklearn.feature_extraction.text import CountVectorizer\n",
    "import numpy as np\n",
    "from sklearn.model_selection import train_test_split\n",
    "from sklearn.ensemble import RandomForestRegressor\n",
    "from sklearn.metrics import mean_squared_error, r2_score\n",
    "import joblib\n",
    "\n",
    "# helper function\n",
    "def remove_prefix(text: str, prefix: str) -> str:\n",
    "    if text.startswith(prefix):\n",
    "        return text[len(prefix):]\n",
    "    raise ValueError(prefix)\n",
    "\n",
    "# helper function\n",
    "def remove_suffix(text: str, suffix: str) -> str:\n",
    "    if text.endswith(suffix):\n",
    "        return text[len(suffix):]\n",
    "    raise ValueError(suffix)\n",
    "\n",
    "# global variables\n",
    "TOTAL_SEQS = 6739258\n",
    "PREFIX = 'TGCATTTTTTTCACATC'\n",
    "SUFFIX = 'GGTTACGGCTGTT'\n",
    "MAX_SEQ_LEN = 142 - len(PREFIX) - len(SUFFIX)  # 112\n",
    "nuc_map = {k: i for i, k in enumerate(['A', 'C', 'T', 'G', 'N'])}\n",
    "\n",
    "def kmerize(filename=\"./data/train_sequences.txt\", stride=1, size=4):\n",
    "    \"\"\"\n",
    "    Generate kmers for specified subset of sequences.\n",
    "    :param:\n",
    "           str filename: file with sequences.\n",
    "           int stride: slide of the window for kmer generation.\n",
    "           int size: size of the kmer.\n",
    "    :return:\n",
    "            pd.DataFrame: Pandas object with row pair as sequence and the corresponding kmer.\n",
    "            list exprs: expressions of promoter sequences.\n",
    "    \"\"\"\n",
    "    sequences, kmers, exprs = [], [], []\n",
    "    with open(filename) as f:\n",
    "        for i, line in enumerate(tqdm(f.readlines())):\n",
    "            if i == 10000:\n",
    "                break\n",
    "            seq, expr = line.split('\\t')\n",
    "            exprs.append(float(expr.replace(\"\\n\", \"\")))\n",
    "            # keep original sequence \n",
    "            sequences.append(seq)\n",
    "            seq = remove_suffix(remove_prefix(seq, PREFIX), SUFFIX)\n",
    "            try:\n",
    "                kmer = [seq[i:(i+size)] for i in range(0, stride, len(seq)) if len(seq[i:(i+size)]) == size]\n",
    "                kmer = \",\".join(kmer)\n",
    "                kmers.append(kmer)\n",
    "            except IndexError:\n",
    "                pass\n",
    "    print(kmers)\n",
    "    database = pd.DataFrame({'sequence': sequences, \"kmers\": kmers})\n",
    "    exprs = np.array(exprs, dtype=np.float16)\n",
    "    return database, exprs\n",
    "\n",
    "def tokenize(size=4, filename=\"./data/train_sequences.txt\"):\n",
    "    \"\"\"\n",
    "    Calculate frequency for each kmer given sequence.\n",
    "    :param:\n",
    "           int size: length of each kmer.\n",
    "           str filename: file with sequences.\n",
    "    :return:\n",
    "            pd.DataFrame: Pandas object consisting of kmer frequencies indexed by sequences.\n",
    "            list exprs: expressions of promoter sequences.\n",
    "    \"\"\"\n",
    "    database, exprs = kmerize(filename=filename, stride=1, size=size)\n",
    "    vectorizer = CountVectorizer()\n",
    "    vectorizer.fit(database[\"kmers\"])\n",
    "    data = vectorizer.transform(database[\"kmers\"])\n",
    "    vectors = pd.DataFrame(data.toarray(), database[\"sequence\"].values, vectorizer.get_feature_names())\n",
    "    return vectors, exprs"
   ]
  },
  {
   "cell_type": "code",
   "execution_count": 65,
   "metadata": {},
   "outputs": [
    {
     "name": "stderr",
     "output_type": "stream",
     "text": [
      "100%|██████████| 6739258/6739258 [07:36<00:00, 14755.92it/s]\n"
     ]
    }
   ],
   "source": [
    "x = np.empty((6739258, MAX_SEQ_LEN * 4), np.float16)\n",
    "y = np.empty(6739258, np.float16)\n",
    "\n",
    "with open('data/train_sequences.txt', 'r') as f:\n",
    "    for i, line in enumerate(tqdm(f.readlines())):\n",
    "            seq, expr = line.split('\\t')\n",
    "            seq = remove_suffix(remove_prefix(seq, PREFIX), SUFFIX)\n",
    "            nuc_idx = np.array([nuc_map[s] for s in seq], dtype=int)\n",
    "            pos_idx = np.arange(nuc_idx.size)[nuc_idx != 4]\n",
    "            nuc_idx = nuc_idx[nuc_idx != 4]\n",
    "            one_hot = np.zeros((MAX_SEQ_LEN, 4))\n",
    "            one_hot[pos_idx, nuc_idx] = 1 / MAX_SEQ_LEN\n",
    "            x[i] = one_hot.ravel()\n",
    "            y[i] = float(expr)"
   ]
  },
  {
   "cell_type": "code",
   "execution_count": 2,
   "metadata": {},
   "outputs": [
    {
     "name": "stdout",
     "output_type": "stream",
     "text": [
      "total 1588968\r\n",
      "-rw-r--r--@ 1 kaanguney.keklikci  staff    8176845 Jul 16 16:51 test_sequences.txt\r\n",
      "-rw-r--r--@ 1 kaanguney.keklikci  staff  805369640 Jul 16 16:16 train_sequences.txt\r\n"
     ]
    }
   ],
   "source": [
    "ls -l data"
   ]
  },
  {
   "cell_type": "code",
   "execution_count": 72,
   "metadata": {},
   "outputs": [],
   "source": [
    "X_train, X_valid, y_train, y_valid = train_test_split(x, y, test_size=0.33, random_state=42)"
   ]
  },
  {
   "cell_type": "code",
   "execution_count": 21,
   "metadata": {},
   "outputs": [],
   "source": [
    "del vectors, exprs"
   ]
  },
  {
   "cell_type": "code",
   "execution_count": 73,
   "metadata": {},
   "outputs": [],
   "source": [
    "rf = RandomForestRegressor(n_estimators=300, max_depth=None, min_samples_split=2, bootstrap=False, verbose=2)"
   ]
  },
  {
   "cell_type": "code",
   "execution_count": null,
   "metadata": {
    "scrolled": true
   },
   "outputs": [
    {
     "name": "stderr",
     "output_type": "stream",
     "text": [
      "[Parallel(n_jobs=1)]: Using backend SequentialBackend with 1 concurrent workers.\n"
     ]
    },
    {
     "name": "stdout",
     "output_type": "stream",
     "text": [
      "building tree 1 of 300\n"
     ]
    }
   ],
   "source": [
    "rf.fit(X_train, y_train)"
   ]
  },
  {
   "cell_type": "code",
   "execution_count": 42,
   "metadata": {},
   "outputs": [
    {
     "data": {
      "text/plain": [
       "['rf_model']"
      ]
     },
     "execution_count": 42,
     "metadata": {},
     "output_type": "execute_result"
    }
   ],
   "source": [
    "model_name = \"rf_model\"\n",
    "joblib.dump(rf, model_name)"
   ]
  },
  {
   "cell_type": "code",
   "execution_count": 43,
   "metadata": {
    "scrolled": true
   },
   "outputs": [
    {
     "name": "stderr",
     "output_type": "stream",
     "text": [
      "[Parallel(n_jobs=1)]: Using backend SequentialBackend with 1 concurrent workers.\n",
      "[Parallel(n_jobs=1)]: Done   1 out of   1 | elapsed:    0.0s remaining:    0.0s\n",
      "[Parallel(n_jobs=1)]: Done 300 out of 300 | elapsed:    0.4s finished\n"
     ]
    },
    {
     "data": {
      "text/plain": [
       "0.02480385991885725"
      ]
     },
     "execution_count": 43,
     "metadata": {},
     "output_type": "execute_result"
    }
   ],
   "source": [
    "r2_score(y_train, rf.predict(X_train))"
   ]
  },
  {
   "cell_type": "code",
   "execution_count": 44,
   "metadata": {
    "scrolled": true
   },
   "outputs": [
    {
     "name": "stderr",
     "output_type": "stream",
     "text": [
      "[Parallel(n_jobs=1)]: Using backend SequentialBackend with 1 concurrent workers.\n",
      "[Parallel(n_jobs=1)]: Done   1 out of   1 | elapsed:    0.0s remaining:    0.0s\n",
      "[Parallel(n_jobs=1)]: Done 300 out of 300 | elapsed:    0.3s finished\n"
     ]
    },
    {
     "data": {
      "text/plain": [
       "5.232786129852676"
      ]
     },
     "execution_count": 44,
     "metadata": {},
     "output_type": "execute_result"
    }
   ],
   "source": [
    "mean_squared_error(y_train, rf.predict(X_train))"
   ]
  },
  {
   "cell_type": "code",
   "execution_count": 45,
   "metadata": {},
   "outputs": [],
   "source": [
    "import matplotlib.pyplot as plt\n",
    "import seaborn as sns"
   ]
  },
  {
   "cell_type": "code",
   "execution_count": 46,
   "metadata": {
    "scrolled": false
   },
   "outputs": [
    {
     "name": "stderr",
     "output_type": "stream",
     "text": [
      " 14%|█▍        | 10000/71103 [00:00<00:00, 260559.47it/s]\n"
     ]
    }
   ],
   "source": [
    "vectors, exprs = tokenize(filename=\"./data/test_sequences.txt\")"
   ]
  },
  {
   "cell_type": "code",
   "execution_count": 47,
   "metadata": {
    "scrolled": true
   },
   "outputs": [
    {
     "name": "stderr",
     "output_type": "stream",
     "text": [
      "[Parallel(n_jobs=1)]: Using backend SequentialBackend with 1 concurrent workers.\n",
      "[Parallel(n_jobs=1)]: Done   1 out of   1 | elapsed:    0.0s remaining:    0.0s\n",
      "[Parallel(n_jobs=1)]: Done 300 out of 300 | elapsed:    0.2s finished\n"
     ]
    },
    {
     "data": {
      "image/png": "[encoded data removed]",
      "text/plain": [
       "<Figure size 432x288 with 1 Axes>"
      ]
     },
     "metadata": {
      "needs_background": "light"
     },
     "output_type": "display_data"
    }
   ],
   "source": [
    "plt.plot(figsize=(20, 2))\n",
    "sns.kdeplot(rf.predict(X_valid))\n",
    "sns.kdeplot(y_valid, color = \"r\")\n",
    "plt.show()"
   ]
  },
  {
   "cell_type": "code",
   "execution_count": null,
   "metadata": {},
   "outputs": [],
   "source": [
    "r2_score(y_valid)"
   ]
  }
 ],
 "metadata": {
  "kernelspec": {
   "display_name": "Python 3",
   "language": "python",
   "name": "python3"
  },
  "language_info": {
   "codemirror_mode": {
    "name": "ipython",
    "version": 3
   },
   "file_extension": ".py",
   "mimetype": "text/x-python",
   "name": "python",
   "nbconvert_exporter": "python",
   "pygments_lexer": "ipython3",
   "version": "3.8.3"
  }
 },
 "nbformat": 4,
 "nbformat_minor": 4
}
